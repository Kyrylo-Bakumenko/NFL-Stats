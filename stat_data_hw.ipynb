{
  "nbformat": 4,
  "nbformat_minor": 0,
  "metadata": {
    "colab": {
      "name": "stat_data_hw.ipynb",
      "provenance": [],
      "collapsed_sections": [
        "GJR2yQiJZQ4W",
        "yPzq2rCmtU-6",
        "gRIHzmixY4oI",
        "JFOudwn1Zh3N"
      ],
      "mount_file_id": "1bH4u0YIeLcobMUuRGuKrpFMIHQ8mRcDl",
      "authorship_tag": "ABX9TyMZ2klfySijOI6C2YwNMbAx",
      "include_colab_link": true
    },
    "kernelspec": {
      "name": "python3",
      "display_name": "Python 3"
    }
  },
  "cells": [
    {
      "cell_type": "markdown",
      "metadata": {
        "id": "view-in-github",
        "colab_type": "text"
      },
      "source": [
        "<a href=\"https://colab.research.google.com/github/Kyrylo-Bakumenko/NFL-Stats/blob/main/stat_data_hw.ipynb\" target=\"_parent\"><img src=\"https://colab.research.google.com/assets/colab-badge.svg\" alt=\"Open In Colab\"/></a>"
      ]
    },
    {
      "cell_type": "code",
      "metadata": {
        "id": "cjsP3z-aQsJ7"
      },
      "source": [
        "import pandas as pd\n",
        "import matplotlib.pyplot as plt\n",
        "import numpy as np\n",
        "from scipy.stats import probplot"
      ],
      "execution_count": 137,
      "outputs": []
    },
    {
      "cell_type": "markdown",
      "metadata": {
        "id": "GJR2yQiJZQ4W"
      },
      "source": [
        "# Procuring and Formatting our Data"
      ]
    },
    {
      "cell_type": "markdown",
      "metadata": {
        "id": "5qZ6_fNRrsoc"
      },
      "source": [
        " First we import data from the excel sheet \"2019_stats_NFL\" from https://www.nfl.com/standings/league/2019/reg/ and put it in a pandas DataFrame for further manipulation."
      ]
    },
    {
      "cell_type": "code",
      "metadata": {
        "id": "s0g2awnXYXYX",
        "outputId": "55035d30-ce3e-46e7-c18a-86b6089b713e",
        "colab": {
          "base_uri": "https://localhost:8080/",
          "height": 402
        }
      },
      "source": [
        "wd = pd.read_excel(\"/content/2019_stats_NFL.xlsx\", \"Sheet1\", header=None).loc[:, 0:7]\n",
        "wd"
      ],
      "execution_count": 121,
      "outputs": [
        {
          "output_type": "execute_result",
          "data": {
            "text/html": [
              "<div>\n",
              "<style scoped>\n",
              "    .dataframe tbody tr th:only-of-type {\n",
              "        vertical-align: middle;\n",
              "    }\n",
              "\n",
              "    .dataframe tbody tr th {\n",
              "        vertical-align: top;\n",
              "    }\n",
              "\n",
              "    .dataframe thead th {\n",
              "        text-align: right;\n",
              "    }\n",
              "</style>\n",
              "<table border=\"1\" class=\"dataframe\">\n",
              "  <thead>\n",
              "    <tr style=\"text-align: right;\">\n",
              "      <th></th>\n",
              "      <th>0</th>\n",
              "      <th>1</th>\n",
              "      <th>2</th>\n",
              "      <th>3</th>\n",
              "      <th>4</th>\n",
              "      <th>5</th>\n",
              "      <th>6</th>\n",
              "      <th>7</th>\n",
              "    </tr>\n",
              "  </thead>\n",
              "  <tbody>\n",
              "    <tr>\n",
              "      <th>0</th>\n",
              "      <td>Baltimore Ravens logo</td>\n",
              "      <td>NaN</td>\n",
              "      <td>NaN</td>\n",
              "      <td>NaN</td>\n",
              "      <td>NaN</td>\n",
              "      <td>NaN</td>\n",
              "      <td>NaN</td>\n",
              "      <td>NaN</td>\n",
              "    </tr>\n",
              "    <tr>\n",
              "      <th>1</th>\n",
              "      <td>Baltimore Ravens</td>\n",
              "      <td>14.0</td>\n",
              "      <td>2.0</td>\n",
              "      <td>0.0</td>\n",
              "      <td>0.875</td>\n",
              "      <td>531.0</td>\n",
              "      <td>282.0</td>\n",
              "      <td>249.0</td>\n",
              "    </tr>\n",
              "    <tr>\n",
              "      <th>2</th>\n",
              "      <td>NaN</td>\n",
              "      <td>NaN</td>\n",
              "      <td>NaN</td>\n",
              "      <td>NaN</td>\n",
              "      <td>NaN</td>\n",
              "      <td>NaN</td>\n",
              "      <td>NaN</td>\n",
              "      <td>NaN</td>\n",
              "    </tr>\n",
              "    <tr>\n",
              "      <th>3</th>\n",
              "      <td>NaN</td>\n",
              "      <td>NaN</td>\n",
              "      <td>NaN</td>\n",
              "      <td>NaN</td>\n",
              "      <td>NaN</td>\n",
              "      <td>NaN</td>\n",
              "      <td>NaN</td>\n",
              "      <td>NaN</td>\n",
              "    </tr>\n",
              "    <tr>\n",
              "      <th>4</th>\n",
              "      <td>NaN</td>\n",
              "      <td>NaN</td>\n",
              "      <td>NaN</td>\n",
              "      <td>NaN</td>\n",
              "      <td>NaN</td>\n",
              "      <td>NaN</td>\n",
              "      <td>NaN</td>\n",
              "      <td>NaN</td>\n",
              "    </tr>\n",
              "    <tr>\n",
              "      <th>...</th>\n",
              "      <td>...</td>\n",
              "      <td>...</td>\n",
              "      <td>...</td>\n",
              "      <td>...</td>\n",
              "      <td>...</td>\n",
              "      <td>...</td>\n",
              "      <td>...</td>\n",
              "      <td>...</td>\n",
              "    </tr>\n",
              "    <tr>\n",
              "      <th>110</th>\n",
              "      <td>Washington Redskins logo</td>\n",
              "      <td>NaN</td>\n",
              "      <td>NaN</td>\n",
              "      <td>NaN</td>\n",
              "      <td>NaN</td>\n",
              "      <td>NaN</td>\n",
              "      <td>NaN</td>\n",
              "      <td>NaN</td>\n",
              "    </tr>\n",
              "    <tr>\n",
              "      <th>111</th>\n",
              "      <td>Washington Redskins</td>\n",
              "      <td>3.0</td>\n",
              "      <td>13.0</td>\n",
              "      <td>0.0</td>\n",
              "      <td>0.188</td>\n",
              "      <td>266.0</td>\n",
              "      <td>435.0</td>\n",
              "      <td>-169.0</td>\n",
              "    </tr>\n",
              "    <tr>\n",
              "      <th>112</th>\n",
              "      <td>NaN</td>\n",
              "      <td>NaN</td>\n",
              "      <td>NaN</td>\n",
              "      <td>NaN</td>\n",
              "      <td>NaN</td>\n",
              "      <td>NaN</td>\n",
              "      <td>NaN</td>\n",
              "      <td>NaN</td>\n",
              "    </tr>\n",
              "    <tr>\n",
              "      <th>113</th>\n",
              "      <td>Cincinnati Bengals logo</td>\n",
              "      <td>NaN</td>\n",
              "      <td>NaN</td>\n",
              "      <td>NaN</td>\n",
              "      <td>NaN</td>\n",
              "      <td>NaN</td>\n",
              "      <td>NaN</td>\n",
              "      <td>NaN</td>\n",
              "    </tr>\n",
              "    <tr>\n",
              "      <th>114</th>\n",
              "      <td>Cincinnati Bengals</td>\n",
              "      <td>2.0</td>\n",
              "      <td>14.0</td>\n",
              "      <td>0.0</td>\n",
              "      <td>0.125</td>\n",
              "      <td>279.0</td>\n",
              "      <td>420.0</td>\n",
              "      <td>-141.0</td>\n",
              "    </tr>\n",
              "  </tbody>\n",
              "</table>\n",
              "<p>115 rows × 8 columns</p>\n",
              "</div>"
            ],
            "text/plain": [
              "                            0     1     2    3      4      5      6      7\n",
              "0       Baltimore Ravens logo   NaN   NaN  NaN    NaN    NaN    NaN    NaN\n",
              "1            Baltimore Ravens  14.0   2.0  0.0  0.875  531.0  282.0  249.0\n",
              "2                         NaN   NaN   NaN  NaN    NaN    NaN    NaN    NaN\n",
              "3                         NaN   NaN   NaN  NaN    NaN    NaN    NaN    NaN\n",
              "4                         NaN   NaN   NaN  NaN    NaN    NaN    NaN    NaN\n",
              "..                        ...   ...   ...  ...    ...    ...    ...    ...\n",
              "110  Washington Redskins logo   NaN   NaN  NaN    NaN    NaN    NaN    NaN\n",
              "111       Washington Redskins   3.0  13.0  0.0  0.188  266.0  435.0 -169.0\n",
              "112                       NaN   NaN   NaN  NaN    NaN    NaN    NaN    NaN\n",
              "113   Cincinnati Bengals logo   NaN   NaN  NaN    NaN    NaN    NaN    NaN\n",
              "114        Cincinnati Bengals   2.0  14.0  0.0  0.125  279.0  420.0 -141.0\n",
              "\n",
              "[115 rows x 8 columns]"
            ]
          },
          "metadata": {
            "tags": []
          },
          "execution_count": 121
        }
      ]
    },
    {
      "cell_type": "markdown",
      "metadata": {
        "id": "si06FAaesWGN"
      },
      "source": [
        "Clean the data up a bit . . .\n"
      ]
    },
    {
      "cell_type": "code",
      "metadata": {
        "id": "ey6BtsnrsRGL",
        "outputId": "dc0cca64-6d70-4988-8ebd-22a8150d95be",
        "colab": {
          "base_uri": "https://localhost:8080/",
          "height": 994
        }
      },
      "source": [
        "wd = wd.rename(index=wd.loc[:, 0])\n",
        "wd = wd.drop(columns=[0])\n",
        "wd = wd.rename(columns={1 : 'Wins', 2: 'Losses', 3: 'T', 4: 'PCT', 5:'For', 6:'Against', 7: \"Net\"})\n",
        "wd.dropna(inplace=True)\n",
        "wd.drop(columns=[\"T\"], inplace=True)\n",
        "wd"
      ],
      "execution_count": 122,
      "outputs": [
        {
          "output_type": "execute_result",
          "data": {
            "text/html": [
              "<div>\n",
              "<style scoped>\n",
              "    .dataframe tbody tr th:only-of-type {\n",
              "        vertical-align: middle;\n",
              "    }\n",
              "\n",
              "    .dataframe tbody tr th {\n",
              "        vertical-align: top;\n",
              "    }\n",
              "\n",
              "    .dataframe thead th {\n",
              "        text-align: right;\n",
              "    }\n",
              "</style>\n",
              "<table border=\"1\" class=\"dataframe\">\n",
              "  <thead>\n",
              "    <tr style=\"text-align: right;\">\n",
              "      <th></th>\n",
              "      <th>Wins</th>\n",
              "      <th>Losses</th>\n",
              "      <th>PCT</th>\n",
              "      <th>For</th>\n",
              "      <th>Against</th>\n",
              "      <th>Net</th>\n",
              "    </tr>\n",
              "  </thead>\n",
              "  <tbody>\n",
              "    <tr>\n",
              "      <th>Baltimore Ravens</th>\n",
              "      <td>14.0</td>\n",
              "      <td>2.0</td>\n",
              "      <td>0.875</td>\n",
              "      <td>531.0</td>\n",
              "      <td>282.0</td>\n",
              "      <td>249.0</td>\n",
              "    </tr>\n",
              "    <tr>\n",
              "      <th>Green Bay Packers</th>\n",
              "      <td>13.0</td>\n",
              "      <td>3.0</td>\n",
              "      <td>0.813</td>\n",
              "      <td>376.0</td>\n",
              "      <td>313.0</td>\n",
              "      <td>63.0</td>\n",
              "    </tr>\n",
              "    <tr>\n",
              "      <th>New Orleans Saints</th>\n",
              "      <td>13.0</td>\n",
              "      <td>3.0</td>\n",
              "      <td>0.813</td>\n",
              "      <td>458.0</td>\n",
              "      <td>341.0</td>\n",
              "      <td>117.0</td>\n",
              "    </tr>\n",
              "    <tr>\n",
              "      <th>San Francisco 49ers</th>\n",
              "      <td>13.0</td>\n",
              "      <td>3.0</td>\n",
              "      <td>0.813</td>\n",
              "      <td>479.0</td>\n",
              "      <td>310.0</td>\n",
              "      <td>169.0</td>\n",
              "    </tr>\n",
              "    <tr>\n",
              "      <th>Kansas City Chiefs</th>\n",
              "      <td>12.0</td>\n",
              "      <td>4.0</td>\n",
              "      <td>0.750</td>\n",
              "      <td>451.0</td>\n",
              "      <td>308.0</td>\n",
              "      <td>143.0</td>\n",
              "    </tr>\n",
              "    <tr>\n",
              "      <th>New England Patriots</th>\n",
              "      <td>12.0</td>\n",
              "      <td>4.0</td>\n",
              "      <td>0.750</td>\n",
              "      <td>420.0</td>\n",
              "      <td>225.0</td>\n",
              "      <td>195.0</td>\n",
              "    </tr>\n",
              "    <tr>\n",
              "      <th>Seattle Seahawks</th>\n",
              "      <td>11.0</td>\n",
              "      <td>5.0</td>\n",
              "      <td>0.688</td>\n",
              "      <td>405.0</td>\n",
              "      <td>398.0</td>\n",
              "      <td>7.0</td>\n",
              "    </tr>\n",
              "    <tr>\n",
              "      <th>Buffalo Bills</th>\n",
              "      <td>10.0</td>\n",
              "      <td>6.0</td>\n",
              "      <td>0.625</td>\n",
              "      <td>314.0</td>\n",
              "      <td>259.0</td>\n",
              "      <td>55.0</td>\n",
              "    </tr>\n",
              "    <tr>\n",
              "      <th>Houston Texans</th>\n",
              "      <td>10.0</td>\n",
              "      <td>6.0</td>\n",
              "      <td>0.625</td>\n",
              "      <td>378.0</td>\n",
              "      <td>385.0</td>\n",
              "      <td>-7.0</td>\n",
              "    </tr>\n",
              "    <tr>\n",
              "      <th>Minnesota Vikings</th>\n",
              "      <td>10.0</td>\n",
              "      <td>6.0</td>\n",
              "      <td>0.625</td>\n",
              "      <td>407.0</td>\n",
              "      <td>303.0</td>\n",
              "      <td>104.0</td>\n",
              "    </tr>\n",
              "    <tr>\n",
              "      <th>Los Angeles Rams</th>\n",
              "      <td>9.0</td>\n",
              "      <td>7.0</td>\n",
              "      <td>0.563</td>\n",
              "      <td>394.0</td>\n",
              "      <td>364.0</td>\n",
              "      <td>30.0</td>\n",
              "    </tr>\n",
              "    <tr>\n",
              "      <th>Philadelphia Eagles</th>\n",
              "      <td>9.0</td>\n",
              "      <td>7.0</td>\n",
              "      <td>0.563</td>\n",
              "      <td>385.0</td>\n",
              "      <td>354.0</td>\n",
              "      <td>31.0</td>\n",
              "    </tr>\n",
              "    <tr>\n",
              "      <th>Tennessee Titans</th>\n",
              "      <td>9.0</td>\n",
              "      <td>7.0</td>\n",
              "      <td>0.563</td>\n",
              "      <td>402.0</td>\n",
              "      <td>331.0</td>\n",
              "      <td>71.0</td>\n",
              "    </tr>\n",
              "    <tr>\n",
              "      <th>Chicago Bears</th>\n",
              "      <td>8.0</td>\n",
              "      <td>8.0</td>\n",
              "      <td>0.500</td>\n",
              "      <td>280.0</td>\n",
              "      <td>298.0</td>\n",
              "      <td>-18.0</td>\n",
              "    </tr>\n",
              "    <tr>\n",
              "      <th>Dallas Cowboys</th>\n",
              "      <td>8.0</td>\n",
              "      <td>8.0</td>\n",
              "      <td>0.500</td>\n",
              "      <td>434.0</td>\n",
              "      <td>321.0</td>\n",
              "      <td>113.0</td>\n",
              "    </tr>\n",
              "    <tr>\n",
              "      <th>Pittsburgh Steelers</th>\n",
              "      <td>8.0</td>\n",
              "      <td>8.0</td>\n",
              "      <td>0.500</td>\n",
              "      <td>289.0</td>\n",
              "      <td>303.0</td>\n",
              "      <td>-14.0</td>\n",
              "    </tr>\n",
              "    <tr>\n",
              "      <th>Atlanta Falcons</th>\n",
              "      <td>7.0</td>\n",
              "      <td>9.0</td>\n",
              "      <td>0.438</td>\n",
              "      <td>381.0</td>\n",
              "      <td>399.0</td>\n",
              "      <td>-18.0</td>\n",
              "    </tr>\n",
              "    <tr>\n",
              "      <th>Denver Broncos</th>\n",
              "      <td>7.0</td>\n",
              "      <td>9.0</td>\n",
              "      <td>0.438</td>\n",
              "      <td>282.0</td>\n",
              "      <td>316.0</td>\n",
              "      <td>-34.0</td>\n",
              "    </tr>\n",
              "    <tr>\n",
              "      <th>Indianapolis Colts</th>\n",
              "      <td>7.0</td>\n",
              "      <td>9.0</td>\n",
              "      <td>0.438</td>\n",
              "      <td>361.0</td>\n",
              "      <td>373.0</td>\n",
              "      <td>-12.0</td>\n",
              "    </tr>\n",
              "    <tr>\n",
              "      <th>New York Jets</th>\n",
              "      <td>7.0</td>\n",
              "      <td>9.0</td>\n",
              "      <td>0.438</td>\n",
              "      <td>276.0</td>\n",
              "      <td>359.0</td>\n",
              "      <td>-83.0</td>\n",
              "    </tr>\n",
              "    <tr>\n",
              "      <th>Oakland Raiders</th>\n",
              "      <td>7.0</td>\n",
              "      <td>9.0</td>\n",
              "      <td>0.438</td>\n",
              "      <td>313.0</td>\n",
              "      <td>419.0</td>\n",
              "      <td>-106.0</td>\n",
              "    </tr>\n",
              "    <tr>\n",
              "      <th>Tampa Bay Buccaneers</th>\n",
              "      <td>7.0</td>\n",
              "      <td>9.0</td>\n",
              "      <td>0.438</td>\n",
              "      <td>458.0</td>\n",
              "      <td>449.0</td>\n",
              "      <td>9.0</td>\n",
              "    </tr>\n",
              "    <tr>\n",
              "      <th>Cleveland Browns</th>\n",
              "      <td>6.0</td>\n",
              "      <td>10.0</td>\n",
              "      <td>0.375</td>\n",
              "      <td>335.0</td>\n",
              "      <td>393.0</td>\n",
              "      <td>-58.0</td>\n",
              "    </tr>\n",
              "    <tr>\n",
              "      <th>Jacksonville Jaguars</th>\n",
              "      <td>6.0</td>\n",
              "      <td>10.0</td>\n",
              "      <td>0.375</td>\n",
              "      <td>300.0</td>\n",
              "      <td>397.0</td>\n",
              "      <td>-97.0</td>\n",
              "    </tr>\n",
              "    <tr>\n",
              "      <th>Arizona Cardinals</th>\n",
              "      <td>5.0</td>\n",
              "      <td>10.0</td>\n",
              "      <td>0.344</td>\n",
              "      <td>361.0</td>\n",
              "      <td>442.0</td>\n",
              "      <td>-81.0</td>\n",
              "    </tr>\n",
              "    <tr>\n",
              "      <th>Carolina Panthers</th>\n",
              "      <td>5.0</td>\n",
              "      <td>11.0</td>\n",
              "      <td>0.313</td>\n",
              "      <td>340.0</td>\n",
              "      <td>470.0</td>\n",
              "      <td>-130.0</td>\n",
              "    </tr>\n",
              "    <tr>\n",
              "      <th>Los Angeles Chargers</th>\n",
              "      <td>5.0</td>\n",
              "      <td>11.0</td>\n",
              "      <td>0.313</td>\n",
              "      <td>337.0</td>\n",
              "      <td>345.0</td>\n",
              "      <td>-8.0</td>\n",
              "    </tr>\n",
              "    <tr>\n",
              "      <th>Miami Dolphins</th>\n",
              "      <td>5.0</td>\n",
              "      <td>11.0</td>\n",
              "      <td>0.313</td>\n",
              "      <td>306.0</td>\n",
              "      <td>494.0</td>\n",
              "      <td>-188.0</td>\n",
              "    </tr>\n",
              "    <tr>\n",
              "      <th>New York Giants</th>\n",
              "      <td>4.0</td>\n",
              "      <td>12.0</td>\n",
              "      <td>0.250</td>\n",
              "      <td>341.0</td>\n",
              "      <td>451.0</td>\n",
              "      <td>-110.0</td>\n",
              "    </tr>\n",
              "    <tr>\n",
              "      <th>Detroit Lions</th>\n",
              "      <td>3.0</td>\n",
              "      <td>12.0</td>\n",
              "      <td>0.219</td>\n",
              "      <td>341.0</td>\n",
              "      <td>423.0</td>\n",
              "      <td>-82.0</td>\n",
              "    </tr>\n",
              "    <tr>\n",
              "      <th>Washington Redskins</th>\n",
              "      <td>3.0</td>\n",
              "      <td>13.0</td>\n",
              "      <td>0.188</td>\n",
              "      <td>266.0</td>\n",
              "      <td>435.0</td>\n",
              "      <td>-169.0</td>\n",
              "    </tr>\n",
              "    <tr>\n",
              "      <th>Cincinnati Bengals</th>\n",
              "      <td>2.0</td>\n",
              "      <td>14.0</td>\n",
              "      <td>0.125</td>\n",
              "      <td>279.0</td>\n",
              "      <td>420.0</td>\n",
              "      <td>-141.0</td>\n",
              "    </tr>\n",
              "  </tbody>\n",
              "</table>\n",
              "</div>"
            ],
            "text/plain": [
              "                      Wins  Losses    PCT    For  Against    Net\n",
              "Baltimore Ravens      14.0     2.0  0.875  531.0    282.0  249.0\n",
              "Green Bay Packers     13.0     3.0  0.813  376.0    313.0   63.0\n",
              "New Orleans Saints    13.0     3.0  0.813  458.0    341.0  117.0\n",
              "San Francisco 49ers   13.0     3.0  0.813  479.0    310.0  169.0\n",
              "Kansas City Chiefs    12.0     4.0  0.750  451.0    308.0  143.0\n",
              "New England Patriots  12.0     4.0  0.750  420.0    225.0  195.0\n",
              "Seattle Seahawks      11.0     5.0  0.688  405.0    398.0    7.0\n",
              "Buffalo Bills         10.0     6.0  0.625  314.0    259.0   55.0\n",
              "Houston Texans        10.0     6.0  0.625  378.0    385.0   -7.0\n",
              "Minnesota Vikings     10.0     6.0  0.625  407.0    303.0  104.0\n",
              "Los Angeles Rams       9.0     7.0  0.563  394.0    364.0   30.0\n",
              "Philadelphia Eagles    9.0     7.0  0.563  385.0    354.0   31.0\n",
              "Tennessee Titans       9.0     7.0  0.563  402.0    331.0   71.0\n",
              "Chicago Bears          8.0     8.0  0.500  280.0    298.0  -18.0\n",
              "Dallas Cowboys         8.0     8.0  0.500  434.0    321.0  113.0\n",
              "Pittsburgh Steelers    8.0     8.0  0.500  289.0    303.0  -14.0\n",
              "Atlanta Falcons        7.0     9.0  0.438  381.0    399.0  -18.0\n",
              "Denver Broncos         7.0     9.0  0.438  282.0    316.0  -34.0\n",
              "Indianapolis Colts     7.0     9.0  0.438  361.0    373.0  -12.0\n",
              "New York Jets          7.0     9.0  0.438  276.0    359.0  -83.0\n",
              "Oakland Raiders        7.0     9.0  0.438  313.0    419.0 -106.0\n",
              "Tampa Bay Buccaneers   7.0     9.0  0.438  458.0    449.0    9.0\n",
              "Cleveland Browns       6.0    10.0  0.375  335.0    393.0  -58.0\n",
              "Jacksonville Jaguars   6.0    10.0  0.375  300.0    397.0  -97.0\n",
              "Arizona Cardinals      5.0    10.0  0.344  361.0    442.0  -81.0\n",
              "Carolina Panthers      5.0    11.0  0.313  340.0    470.0 -130.0\n",
              "Los Angeles Chargers   5.0    11.0  0.313  337.0    345.0   -8.0\n",
              "Miami Dolphins         5.0    11.0  0.313  306.0    494.0 -188.0\n",
              "New York Giants        4.0    12.0  0.250  341.0    451.0 -110.0\n",
              "Detroit Lions          3.0    12.0  0.219  341.0    423.0  -82.0\n",
              "Washington Redskins    3.0    13.0  0.188  266.0    435.0 -169.0\n",
              "Cincinnati Bengals     2.0    14.0  0.125  279.0    420.0 -141.0"
            ]
          },
          "metadata": {
            "tags": []
          },
          "execution_count": 122
        }
      ]
    },
    {
      "cell_type": "markdown",
      "metadata": {
        "id": "cYKtk0T_sjAx"
      },
      "source": [
        "Now we can start our analysis of NFL team wins, points for, and net points with the help of some visuals!"
      ]
    },
    {
      "cell_type": "markdown",
      "metadata": {
        "id": "yPzq2rCmtU-6"
      },
      "source": [
        "# Frequency and Relative Frequency Tables"
      ]
    },
    {
      "cell_type": "markdown",
      "metadata": {
        "id": "gRIHzmixY4oI"
      },
      "source": [
        "### Relative frequency:"
      ]
    },
    {
      "cell_type": "code",
      "metadata": {
        "id": "JrX8ms3HrXim",
        "outputId": "c180ebdf-591a-4b7f-86af-eff9ed72230f",
        "colab": {
          "base_uri": "https://localhost:8080/",
          "height": 225
        }
      },
      "source": [
        "wf = wd[\"Wins\"].value_counts(normalize = True, bins = 6).sort_index();\n",
        "rf = pd.DataFrame({\"Wins\": wf.index, \"Relative Frequency\":wf.values})\n",
        "rf"
      ],
      "execution_count": 123,
      "outputs": [
        {
          "output_type": "execute_result",
          "data": {
            "text/html": [
              "<div>\n",
              "<style scoped>\n",
              "    .dataframe tbody tr th:only-of-type {\n",
              "        vertical-align: middle;\n",
              "    }\n",
              "\n",
              "    .dataframe tbody tr th {\n",
              "        vertical-align: top;\n",
              "    }\n",
              "\n",
              "    .dataframe thead th {\n",
              "        text-align: right;\n",
              "    }\n",
              "</style>\n",
              "<table border=\"1\" class=\"dataframe\">\n",
              "  <thead>\n",
              "    <tr style=\"text-align: right;\">\n",
              "      <th></th>\n",
              "      <th>Wins</th>\n",
              "      <th>Relative Frequency</th>\n",
              "    </tr>\n",
              "  </thead>\n",
              "  <tbody>\n",
              "    <tr>\n",
              "      <th>0</th>\n",
              "      <td>(1.987, 4.0]</td>\n",
              "      <td>0.12500</td>\n",
              "    </tr>\n",
              "    <tr>\n",
              "      <th>1</th>\n",
              "      <td>(4.0, 6.0]</td>\n",
              "      <td>0.18750</td>\n",
              "    </tr>\n",
              "    <tr>\n",
              "      <th>2</th>\n",
              "      <td>(6.0, 8.0]</td>\n",
              "      <td>0.28125</td>\n",
              "    </tr>\n",
              "    <tr>\n",
              "      <th>3</th>\n",
              "      <td>(8.0, 10.0]</td>\n",
              "      <td>0.18750</td>\n",
              "    </tr>\n",
              "    <tr>\n",
              "      <th>4</th>\n",
              "      <td>(10.0, 12.0]</td>\n",
              "      <td>0.09375</td>\n",
              "    </tr>\n",
              "    <tr>\n",
              "      <th>5</th>\n",
              "      <td>(12.0, 14.0]</td>\n",
              "      <td>0.12500</td>\n",
              "    </tr>\n",
              "  </tbody>\n",
              "</table>\n",
              "</div>"
            ],
            "text/plain": [
              "           Wins  Relative Frequency\n",
              "0  (1.987, 4.0]             0.12500\n",
              "1    (4.0, 6.0]             0.18750\n",
              "2    (6.0, 8.0]             0.28125\n",
              "3   (8.0, 10.0]             0.18750\n",
              "4  (10.0, 12.0]             0.09375\n",
              "5  (12.0, 14.0]             0.12500"
            ]
          },
          "metadata": {
            "tags": []
          },
          "execution_count": 123
        }
      ]
    },
    {
      "cell_type": "code",
      "metadata": {
        "id": "BeIRu8XJtd3f",
        "outputId": "0f52ed2d-6f3f-48cb-eceb-48d6adaa0574",
        "colab": {
          "base_uri": "https://localhost:8080/",
          "height": 225
        }
      },
      "source": [
        "wf = wd[\"For\"].value_counts(normalize = True, bins = 6).sort_index();\n",
        "rf = pd.DataFrame({\"Points For\": wf.index, \"Relative Frequency\":wf.values})\n",
        "rf"
      ],
      "execution_count": 124,
      "outputs": [
        {
          "output_type": "execute_result",
          "data": {
            "text/html": [
              "<div>\n",
              "<style scoped>\n",
              "    .dataframe tbody tr th:only-of-type {\n",
              "        vertical-align: middle;\n",
              "    }\n",
              "\n",
              "    .dataframe tbody tr th {\n",
              "        vertical-align: top;\n",
              "    }\n",
              "\n",
              "    .dataframe thead th {\n",
              "        text-align: right;\n",
              "    }\n",
              "</style>\n",
              "<table border=\"1\" class=\"dataframe\">\n",
              "  <thead>\n",
              "    <tr style=\"text-align: right;\">\n",
              "      <th></th>\n",
              "      <th>Points For</th>\n",
              "      <th>Relative Frequency</th>\n",
              "    </tr>\n",
              "  </thead>\n",
              "  <tbody>\n",
              "    <tr>\n",
              "      <th>0</th>\n",
              "      <td>(265.73400000000004, 310.167]</td>\n",
              "      <td>0.25000</td>\n",
              "    </tr>\n",
              "    <tr>\n",
              "      <th>1</th>\n",
              "      <td>(310.167, 354.333]</td>\n",
              "      <td>0.21875</td>\n",
              "    </tr>\n",
              "    <tr>\n",
              "      <th>2</th>\n",
              "      <td>(354.333, 398.5]</td>\n",
              "      <td>0.21875</td>\n",
              "    </tr>\n",
              "    <tr>\n",
              "      <th>3</th>\n",
              "      <td>(398.5, 442.667]</td>\n",
              "      <td>0.15625</td>\n",
              "    </tr>\n",
              "    <tr>\n",
              "      <th>4</th>\n",
              "      <td>(442.667, 486.833]</td>\n",
              "      <td>0.12500</td>\n",
              "    </tr>\n",
              "    <tr>\n",
              "      <th>5</th>\n",
              "      <td>(486.833, 531.0]</td>\n",
              "      <td>0.03125</td>\n",
              "    </tr>\n",
              "  </tbody>\n",
              "</table>\n",
              "</div>"
            ],
            "text/plain": [
              "                      Points For  Relative Frequency\n",
              "0  (265.73400000000004, 310.167]             0.25000\n",
              "1             (310.167, 354.333]             0.21875\n",
              "2               (354.333, 398.5]             0.21875\n",
              "3               (398.5, 442.667]             0.15625\n",
              "4             (442.667, 486.833]             0.12500\n",
              "5               (486.833, 531.0]             0.03125"
            ]
          },
          "metadata": {
            "tags": []
          },
          "execution_count": 124
        }
      ]
    },
    {
      "cell_type": "code",
      "metadata": {
        "id": "vUkwtxBnRxoc",
        "outputId": "e316b937-f360-49b5-edfb-79284b2a02a5",
        "colab": {
          "base_uri": "https://localhost:8080/",
          "height": 225
        }
      },
      "source": [
        "wf = wd[\"Net\"].value_counts(normalize = True, bins = 6).sort_index();\n",
        "rf = pd.DataFrame({\"Net Points\": wf.index, \"Relative Frequency\":wf.values})\n",
        "rf"
      ],
      "execution_count": 125,
      "outputs": [
        {
          "output_type": "execute_result",
          "data": {
            "text/html": [
              "<div>\n",
              "<style scoped>\n",
              "    .dataframe tbody tr th:only-of-type {\n",
              "        vertical-align: middle;\n",
              "    }\n",
              "\n",
              "    .dataframe tbody tr th {\n",
              "        vertical-align: top;\n",
              "    }\n",
              "\n",
              "    .dataframe thead th {\n",
              "        text-align: right;\n",
              "    }\n",
              "</style>\n",
              "<table border=\"1\" class=\"dataframe\">\n",
              "  <thead>\n",
              "    <tr style=\"text-align: right;\">\n",
              "      <th></th>\n",
              "      <th>Net Points</th>\n",
              "      <th>Relative Frequency</th>\n",
              "    </tr>\n",
              "  </thead>\n",
              "  <tbody>\n",
              "    <tr>\n",
              "      <th>0</th>\n",
              "      <td>(-188.43800000000002, -115.167]</td>\n",
              "      <td>0.12500</td>\n",
              "    </tr>\n",
              "    <tr>\n",
              "      <th>1</th>\n",
              "      <td>(-115.167, -42.333]</td>\n",
              "      <td>0.21875</td>\n",
              "    </tr>\n",
              "    <tr>\n",
              "      <th>2</th>\n",
              "      <td>(-42.333, 30.5]</td>\n",
              "      <td>0.31250</td>\n",
              "    </tr>\n",
              "    <tr>\n",
              "      <th>3</th>\n",
              "      <td>(30.5, 103.333]</td>\n",
              "      <td>0.12500</td>\n",
              "    </tr>\n",
              "    <tr>\n",
              "      <th>4</th>\n",
              "      <td>(103.333, 176.167]</td>\n",
              "      <td>0.15625</td>\n",
              "    </tr>\n",
              "    <tr>\n",
              "      <th>5</th>\n",
              "      <td>(176.167, 249.0]</td>\n",
              "      <td>0.06250</td>\n",
              "    </tr>\n",
              "  </tbody>\n",
              "</table>\n",
              "</div>"
            ],
            "text/plain": [
              "                        Net Points  Relative Frequency\n",
              "0  (-188.43800000000002, -115.167]             0.12500\n",
              "1              (-115.167, -42.333]             0.21875\n",
              "2                  (-42.333, 30.5]             0.31250\n",
              "3                  (30.5, 103.333]             0.12500\n",
              "4               (103.333, 176.167]             0.15625\n",
              "5                 (176.167, 249.0]             0.06250"
            ]
          },
          "metadata": {
            "tags": []
          },
          "execution_count": 125
        }
      ]
    },
    {
      "cell_type": "markdown",
      "metadata": {
        "id": "JFOudwn1Zh3N"
      },
      "source": [
        "### Frequency Tables:"
      ]
    },
    {
      "cell_type": "code",
      "metadata": {
        "id": "iv0qHyLcYD1e",
        "outputId": "f7374df4-6b4f-4bbf-e3f0-2b89f09a9eef",
        "colab": {
          "base_uri": "https://localhost:8080/",
          "height": 432
        }
      },
      "source": [
        "wf = wd[\"Wins\"].value_counts().sort_index();\n",
        "rf = pd.DataFrame({\"Wins\": wf.index, \"Count\":wf.values})\n",
        "rf"
      ],
      "execution_count": 126,
      "outputs": [
        {
          "output_type": "execute_result",
          "data": {
            "text/html": [
              "<div>\n",
              "<style scoped>\n",
              "    .dataframe tbody tr th:only-of-type {\n",
              "        vertical-align: middle;\n",
              "    }\n",
              "\n",
              "    .dataframe tbody tr th {\n",
              "        vertical-align: top;\n",
              "    }\n",
              "\n",
              "    .dataframe thead th {\n",
              "        text-align: right;\n",
              "    }\n",
              "</style>\n",
              "<table border=\"1\" class=\"dataframe\">\n",
              "  <thead>\n",
              "    <tr style=\"text-align: right;\">\n",
              "      <th></th>\n",
              "      <th>Wins</th>\n",
              "      <th>Count</th>\n",
              "    </tr>\n",
              "  </thead>\n",
              "  <tbody>\n",
              "    <tr>\n",
              "      <th>0</th>\n",
              "      <td>2.0</td>\n",
              "      <td>1</td>\n",
              "    </tr>\n",
              "    <tr>\n",
              "      <th>1</th>\n",
              "      <td>3.0</td>\n",
              "      <td>2</td>\n",
              "    </tr>\n",
              "    <tr>\n",
              "      <th>2</th>\n",
              "      <td>4.0</td>\n",
              "      <td>1</td>\n",
              "    </tr>\n",
              "    <tr>\n",
              "      <th>3</th>\n",
              "      <td>5.0</td>\n",
              "      <td>4</td>\n",
              "    </tr>\n",
              "    <tr>\n",
              "      <th>4</th>\n",
              "      <td>6.0</td>\n",
              "      <td>2</td>\n",
              "    </tr>\n",
              "    <tr>\n",
              "      <th>5</th>\n",
              "      <td>7.0</td>\n",
              "      <td>6</td>\n",
              "    </tr>\n",
              "    <tr>\n",
              "      <th>6</th>\n",
              "      <td>8.0</td>\n",
              "      <td>3</td>\n",
              "    </tr>\n",
              "    <tr>\n",
              "      <th>7</th>\n",
              "      <td>9.0</td>\n",
              "      <td>3</td>\n",
              "    </tr>\n",
              "    <tr>\n",
              "      <th>8</th>\n",
              "      <td>10.0</td>\n",
              "      <td>3</td>\n",
              "    </tr>\n",
              "    <tr>\n",
              "      <th>9</th>\n",
              "      <td>11.0</td>\n",
              "      <td>1</td>\n",
              "    </tr>\n",
              "    <tr>\n",
              "      <th>10</th>\n",
              "      <td>12.0</td>\n",
              "      <td>2</td>\n",
              "    </tr>\n",
              "    <tr>\n",
              "      <th>11</th>\n",
              "      <td>13.0</td>\n",
              "      <td>3</td>\n",
              "    </tr>\n",
              "    <tr>\n",
              "      <th>12</th>\n",
              "      <td>14.0</td>\n",
              "      <td>1</td>\n",
              "    </tr>\n",
              "  </tbody>\n",
              "</table>\n",
              "</div>"
            ],
            "text/plain": [
              "    Wins  Count\n",
              "0    2.0      1\n",
              "1    3.0      2\n",
              "2    4.0      1\n",
              "3    5.0      4\n",
              "4    6.0      2\n",
              "5    7.0      6\n",
              "6    8.0      3\n",
              "7    9.0      3\n",
              "8   10.0      3\n",
              "9   11.0      1\n",
              "10  12.0      2\n",
              "11  13.0      3\n",
              "12  14.0      1"
            ]
          },
          "metadata": {
            "tags": []
          },
          "execution_count": 126
        }
      ]
    },
    {
      "cell_type": "code",
      "metadata": {
        "id": "hAhQ07svYrMN",
        "outputId": "b37e0c59-cb89-403d-b0a3-c6b7fd0951bf",
        "colab": {
          "base_uri": "https://localhost:8080/",
          "height": 225
        }
      },
      "source": [
        "wf = wd[\"For\"].value_counts(bins = 6).sort_index();\n",
        "rf = pd.DataFrame({\"Points For\": wf.index, \"Count\":wf.values})\n",
        "rf"
      ],
      "execution_count": 127,
      "outputs": [
        {
          "output_type": "execute_result",
          "data": {
            "text/html": [
              "<div>\n",
              "<style scoped>\n",
              "    .dataframe tbody tr th:only-of-type {\n",
              "        vertical-align: middle;\n",
              "    }\n",
              "\n",
              "    .dataframe tbody tr th {\n",
              "        vertical-align: top;\n",
              "    }\n",
              "\n",
              "    .dataframe thead th {\n",
              "        text-align: right;\n",
              "    }\n",
              "</style>\n",
              "<table border=\"1\" class=\"dataframe\">\n",
              "  <thead>\n",
              "    <tr style=\"text-align: right;\">\n",
              "      <th></th>\n",
              "      <th>Points For</th>\n",
              "      <th>Count</th>\n",
              "    </tr>\n",
              "  </thead>\n",
              "  <tbody>\n",
              "    <tr>\n",
              "      <th>0</th>\n",
              "      <td>(265.73400000000004, 310.167]</td>\n",
              "      <td>8</td>\n",
              "    </tr>\n",
              "    <tr>\n",
              "      <th>1</th>\n",
              "      <td>(310.167, 354.333]</td>\n",
              "      <td>7</td>\n",
              "    </tr>\n",
              "    <tr>\n",
              "      <th>2</th>\n",
              "      <td>(354.333, 398.5]</td>\n",
              "      <td>7</td>\n",
              "    </tr>\n",
              "    <tr>\n",
              "      <th>3</th>\n",
              "      <td>(398.5, 442.667]</td>\n",
              "      <td>5</td>\n",
              "    </tr>\n",
              "    <tr>\n",
              "      <th>4</th>\n",
              "      <td>(442.667, 486.833]</td>\n",
              "      <td>4</td>\n",
              "    </tr>\n",
              "    <tr>\n",
              "      <th>5</th>\n",
              "      <td>(486.833, 531.0]</td>\n",
              "      <td>1</td>\n",
              "    </tr>\n",
              "  </tbody>\n",
              "</table>\n",
              "</div>"
            ],
            "text/plain": [
              "                      Points For  Count\n",
              "0  (265.73400000000004, 310.167]      8\n",
              "1             (310.167, 354.333]      7\n",
              "2               (354.333, 398.5]      7\n",
              "3               (398.5, 442.667]      5\n",
              "4             (442.667, 486.833]      4\n",
              "5               (486.833, 531.0]      1"
            ]
          },
          "metadata": {
            "tags": []
          },
          "execution_count": 127
        }
      ]
    },
    {
      "cell_type": "code",
      "metadata": {
        "id": "z6vHqbDuYxbs",
        "outputId": "87473b51-f2be-43fd-9b2f-02dfbe29a86a",
        "colab": {
          "base_uri": "https://localhost:8080/",
          "height": 0
        }
      },
      "source": [
        "wf = wd[\"Net\"].value_counts(bins = 6).sort_index();\n",
        "rf = pd.DataFrame({\"Net Points\": wf.index, \"Count\": wf.values})\n",
        "rf"
      ],
      "execution_count": 128,
      "outputs": [
        {
          "output_type": "execute_result",
          "data": {
            "text/html": [
              "<div>\n",
              "<style scoped>\n",
              "    .dataframe tbody tr th:only-of-type {\n",
              "        vertical-align: middle;\n",
              "    }\n",
              "\n",
              "    .dataframe tbody tr th {\n",
              "        vertical-align: top;\n",
              "    }\n",
              "\n",
              "    .dataframe thead th {\n",
              "        text-align: right;\n",
              "    }\n",
              "</style>\n",
              "<table border=\"1\" class=\"dataframe\">\n",
              "  <thead>\n",
              "    <tr style=\"text-align: right;\">\n",
              "      <th></th>\n",
              "      <th>Net Points</th>\n",
              "      <th>Count</th>\n",
              "    </tr>\n",
              "  </thead>\n",
              "  <tbody>\n",
              "    <tr>\n",
              "      <th>0</th>\n",
              "      <td>(-188.43800000000002, -115.167]</td>\n",
              "      <td>4</td>\n",
              "    </tr>\n",
              "    <tr>\n",
              "      <th>1</th>\n",
              "      <td>(-115.167, -42.333]</td>\n",
              "      <td>7</td>\n",
              "    </tr>\n",
              "    <tr>\n",
              "      <th>2</th>\n",
              "      <td>(-42.333, 30.5]</td>\n",
              "      <td>10</td>\n",
              "    </tr>\n",
              "    <tr>\n",
              "      <th>3</th>\n",
              "      <td>(30.5, 103.333]</td>\n",
              "      <td>4</td>\n",
              "    </tr>\n",
              "    <tr>\n",
              "      <th>4</th>\n",
              "      <td>(103.333, 176.167]</td>\n",
              "      <td>5</td>\n",
              "    </tr>\n",
              "    <tr>\n",
              "      <th>5</th>\n",
              "      <td>(176.167, 249.0]</td>\n",
              "      <td>2</td>\n",
              "    </tr>\n",
              "  </tbody>\n",
              "</table>\n",
              "</div>"
            ],
            "text/plain": [
              "                        Net Points  Count\n",
              "0  (-188.43800000000002, -115.167]      4\n",
              "1              (-115.167, -42.333]      7\n",
              "2                  (-42.333, 30.5]     10\n",
              "3                  (30.5, 103.333]      4\n",
              "4               (103.333, 176.167]      5\n",
              "5                 (176.167, 249.0]      2"
            ]
          },
          "metadata": {
            "tags": []
          },
          "execution_count": 128
        }
      ]
    },
    {
      "cell_type": "code",
      "metadata": {
        "id": "yHCyzUCxZnqT"
      },
      "source": [
        ""
      ],
      "execution_count": 128,
      "outputs": []
    },
    {
      "cell_type": "markdown",
      "metadata": {
        "id": "snj64cNSZCKA"
      },
      "source": [
        "# Histogram Graphs"
      ]
    },
    {
      "cell_type": "markdown",
      "metadata": {
        "id": "29BW_7BXbWdL"
      },
      "source": [
        "The distribution of wins in the NFL 2019 season appears to be slightly right skewed shown by the mean (7.97) slightly exceeding the median (7.5). With a standard deviation of 3.16 wins and every season win lying within two standard deviations of the mean, this distribution is also more center clustered than a normal distribution; however, it is almost normal with the average discrepancy from the empirical being only 2%."
      ]
    },
    {
      "cell_type": "code",
      "metadata": {
        "id": "vr3Yf2Z7gmw0",
        "outputId": "d3d2d97a-1eef-4809-8d5a-f963bdbc793c",
        "colab": {
          "base_uri": "https://localhost:8080/",
          "height": 492
        }
      },
      "source": [
        "var = \"Wins\"\n",
        "wd[var].hist(bins=6, grid=False, figsize=(8, 6), legend=True);\n",
        "print(\"Mean:\", round(np.mean(wd[var]), 2))\n",
        "print(\"Median:\", np.median(wd[var]))\n",
        "print(\"Range:\", np.ptp(wd[var]))\n",
        "print(\"Standard Deviation:\", round(np.std(wd[var]), 2))\n",
        "print(\"Empirical Expectations (%): 68, 95, 99.7\")\n",
        "a = round(np.count_nonzero(np.abs(wd[var] - np.mean(wd[var])) < np.std(wd[var]))/len(wd[var]), 3)*100\n",
        "b = round(np.count_nonzero(np.abs(wd[var] - np.mean(wd[var])) < 2*np.std(wd[var]))/len(wd[var]), 3)*100\n",
        "c = round(np.count_nonzero(np.abs(wd[var] - np.mean(wd[var])) < 3*np.std(wd[var]))/len(wd[var]), 3)*100\n",
        "print(\"Actual (%): \", a, b, c)\n",
        "print(\"Average from Empirical (%): \", round((np.abs(a - 68) + np.abs(b - 95) + np.abs(c - 99.7))/3, 1))"
      ],
      "execution_count": 146,
      "outputs": [
        {
          "output_type": "stream",
          "text": [
            "Mean: 7.97\n",
            "Median: 7.5\n",
            "Range: 12.0\n",
            "Standard Deviation: 3.16\n",
            "Empirical Expectations (%): 68, 95, 99.7\n",
            "Actual (%):  68.8 100.0 100.0\n",
            "Average from Empirical (%):  2.0\n"
          ],
          "name": "stdout"
        },
        {
          "output_type": "display_data",
          "data": {
            "image/png": "[encoded data removed]",
            "text/plain": [
              "<Figure size 576x432 with 1 Axes>"
            ]
          },
          "metadata": {
            "tags": [],
            "needs_background": "light"
          }
        }
      ]
    },
    {
      "cell_type": "markdown",
      "metadata": {
        "id": "KUmdKFg37z34"
      },
      "source": [
        "The distribution of points for a NFL 2019 season team is slightly right skewed with the mean (365) just exceeding the median (361). The distribution is also more focoused ont he extremes than normal as seen in the population of scores within 1 standard deviation being less than in an empirical distribution but scores exceeding 2 standard deviaitons from the mean are more frequent than in empirical distributions."
      ]
    },
    {
      "cell_type": "code",
      "metadata": {
        "id": "QILnXzPMmNTX",
        "outputId": "8c5421d0-fab6-42fc-8355-82d7720b5614",
        "colab": {
          "base_uri": "https://localhost:8080/",
          "height": 492
        }
      },
      "source": [
        "var = \"For\"\n",
        "wd[var].hist(bins=6, grid=False, figsize=(8, 6), legend=True);\n",
        "print(\"Mean:\", round(np.mean(wd[var]), 2))\n",
        "print(\"Median:\", np.median(wd[var]))\n",
        "print(\"Range:\", np.ptp(wd[var]))\n",
        "print(\"Standard Deviation:\", round(np.std(wd[var]), 2))\n",
        "print(\"Empirical Expectations (%): 68, 95, 99.7\")\n",
        "a = round(np.count_nonzero(np.abs(wd[var] - np.mean(wd[var])) < np.std(wd[var]))/len(wd[var]), 3)*100\n",
        "b = round(np.count_nonzero(np.abs(wd[var] - np.mean(wd[var])) < 2*np.std(wd[var]))/len(wd[var]), 3)*100\n",
        "c = round(np.count_nonzero(np.abs(wd[var] - np.mean(wd[var])) < 3*np.std(wd[var]))/len(wd[var]), 3)*100\n",
        "print(\"Actual (%): \", a, b, c)\n",
        "print(\"Average from Empirical (%): \", round((np.abs(a - 68) + np.abs(b - 95) + np.abs(c - 99.7))/3, 1))"
      ],
      "execution_count": 147,
      "outputs": [
        {
          "output_type": "stream",
          "text": [
            "Mean: 365.0\n",
            "Median: 361.0\n",
            "Range: 265.0\n",
            "Standard Deviation: 66.39\n",
            "Empirical Expectations (%): 68, 95, 99.7\n",
            "Actual (%):  62.5 96.89999999999999 100.0\n",
            "Average from Empirical (%):  2.6\n"
          ],
          "name": "stdout"
        },
        {
          "output_type": "display_data",
          "data": {
            "image/png": "[encoded data removed]",
            "text/plain": [
              "<Figure size 576x432 with 1 Axes>"
            ]
          },
          "metadata": {
            "tags": [],
            "needs_background": "light"
          }
        }
      ]
    },
    {
      "cell_type": "markdown",
      "metadata": {
        "id": "-mMhbowW9U3C"
      },
      "source": [
        "The distribution of net points in the NFL 2019 season appears to be roughly symmetrical with the difference between mean (0) and median (-10) being almost negligible negligible in comparison to range (437) and standard deviation (106). Furthermore, this distribution is roughly normal, with the distribution discrepancies between actual and empirical being only 1.5% on average."
      ]
    },
    {
      "cell_type": "code",
      "metadata": {
        "id": "9aBJBtkBnjGS",
        "outputId": "e1ca4e3c-f0ab-4f38-9f05-2870e53377d6",
        "colab": {
          "base_uri": "https://localhost:8080/",
          "height": 492
        }
      },
      "source": [
        "var = \"Net\"\n",
        "wd[var].hist(bins=6, grid=False, figsize=(8, 6), legend=True);\n",
        "print(\"Mean:\", round(np.mean(wd[var]), 2))\n",
        "print(\"Median:\", np.median(wd[var]))\n",
        "print(\"Range:\", np.ptp(wd[var]))\n",
        "print(\"Standard Deviation:\", round(np.std(wd[var]), 2))\n",
        "print(\"Empirical Expectations (%): 68, 95, 99.7\")\n",
        "a = round(np.count_nonzero(np.abs(wd[var] - np.mean(wd[var])) < np.std(wd[var]))/len(wd[var]), 3)*100\n",
        "b = round(np.count_nonzero(np.abs(wd[var] - np.mean(wd[var])) < 2*np.std(wd[var]))/len(wd[var]), 3)*100\n",
        "c = round(np.count_nonzero(np.abs(wd[var] - np.mean(wd[var])) < 3*np.std(wd[var]))/len(wd[var]), 3)*100\n",
        "print(\"Actual (%): \", a, b, c)\n",
        "print(\"Average from Empirical (%): \", round((np.abs(a - 68) + np.abs(b - 95) + np.abs(c - 99.7))/3, 1))"
      ],
      "execution_count": 148,
      "outputs": [
        {
          "output_type": "stream",
          "text": [
            "Mean: 0.0\n",
            "Median: -10.0\n",
            "Range: 437.0\n",
            "Standard Deviation: 106.0\n",
            "Empirical Expectations (%): 68, 95, 99.7\n",
            "Actual (%):  65.60000000000001 96.89999999999999 100.0\n",
            "Average from Empirical (%):  1.5\n"
          ],
          "name": "stdout"
        },
        {
          "output_type": "display_data",
          "data": {
            "image/png": "[encoded data removed]",
            "text/plain": [
              "<Figure size 576x432 with 1 Axes>"
            ]
          },
          "metadata": {
            "tags": [],
            "needs_background": "light"
          }
        }
      ]
    },
    {
      "cell_type": "markdown",
      "metadata": {
        "id": "tn3mldU0cTp8"
      },
      "source": [
        "# Normal Probability Plot"
      ]
    },
    {
      "cell_type": "markdown",
      "metadata": {
        "id": "7Gayy5Y9eY8_"
      },
      "source": [
        "The Normal Probability Plot apears to be nearly linear with little deviation; thus, it can be inferred that  the distribution of wins in the 2019 Season of the NFL was approximately normal."
      ]
    },
    {
      "cell_type": "code",
      "metadata": {
        "id": "DZgXvzU0cZ4q",
        "outputId": "b5ef3f2f-8df0-400e-b97f-f2ea83cc2c23",
        "colab": {
          "base_uri": "https://localhost:8080/",
          "height": 295
        }
      },
      "source": [
        "probplot(wd[\"Wins\"], plot = plt)\n",
        "plt.show()"
      ],
      "execution_count": 140,
      "outputs": [
        {
          "output_type": "display_data",
          "data": {
            "image/png": "[encoded data removed]",
            "text/plain": [
              "<Figure size 432x288 with 1 Axes>"
            ]
          },
          "metadata": {
            "tags": [],
            "needs_background": "light"
          }
        }
      ]
    },
    {
      "cell_type": "markdown",
      "metadata": {
        "id": "72cZ1rxHfGo3"
      },
      "source": [
        "The Normal Probability Plot apears to be slightly linear with some deviation; thus, it can be inferred that  the distribution of For Points in the 2019 Season of the NFL is only slightly normal and deviates from the expected at the extremes."
      ]
    },
    {
      "cell_type": "code",
      "metadata": {
        "id": "MJy4qjC1c6di",
        "outputId": "95616202-1367-4034-d043-b30259f764be",
        "colab": {
          "base_uri": "https://localhost:8080/",
          "height": 295
        }
      },
      "source": [
        "probplot(wd[\"For\"], plot = plt)\n",
        "plt.show()"
      ],
      "execution_count": 143,
      "outputs": [
        {
          "output_type": "display_data",
          "data": {
            "image/png": "[encoded data removed]",
            "text/plain": [
              "<Figure size 432x288 with 1 Axes>"
            ]
          },
          "metadata": {
            "tags": [],
            "needs_background": "light"
          }
        }
      ]
    },
    {
      "cell_type": "markdown",
      "metadata": {
        "id": "DaunXms1fahV"
      },
      "source": [
        "The Normal Probability Plot apears to be nearly linear with little deviation; thus, it can be inferred that the distribution of Net Points in the 2019 Season of the NFL was approximately normal."
      ]
    },
    {
      "cell_type": "code",
      "metadata": {
        "id": "dhVdzlYedSTR",
        "outputId": "11222e17-c3d4-46f3-8d04-053106d3d151",
        "colab": {
          "base_uri": "https://localhost:8080/",
          "height": 295
        }
      },
      "source": [
        "probplot(wd[\"Net\"], plot = plt)\n",
        "plt.show()"
      ],
      "execution_count": 142,
      "outputs": [
        {
          "output_type": "display_data",
          "data": {
            "image/png": "[encoded data removed]",
            "text/plain": [
              "<Figure size 432x288 with 1 Axes>"
            ]
          },
          "metadata": {
            "tags": [],
            "needs_background": "light"
          }
        }
      ]
    },
    {
      "cell_type": "markdown",
      "metadata": {
        "id": "1A3KNnMFye7t"
      },
      "source": [
        "# Conclusion"
      ]
    },
    {
      "cell_type": "markdown",
      "metadata": {
        "id": "LOHUN-4myhMv"
      },
      "source": [
        "We can learn that most distributions in the NFL are roughly normal. This may seem unexpected as I had expected points to be right skewed. However, it makes sense that Net points be perfectly centered at 0 (mean) when considering the whole league, sicne every point lost is a point gained for another team; thus to get takeaways we must look at how wins and points were distributed instea dof their center. Something I found interesting was that 68.8% of teams were within oen standard deviation of the mean in respect to wins, but only 62.5% were within one standard deviaiton of the mean for points scored whilst exceeding the empirical dsitribution with data outside one and two standard deviations. From this phenonema we can infer that most teams and wins in the middle of the league rankings were low scoring, whilst those on wither the top or bottom trended to have blowout performances in terms of points greater than they would be expected by their win percentage alone."
      ]
    },
    {
      "cell_type": "code",
      "metadata": {
        "id": "1RnVMth76BVA"
      },
      "source": [
        ""
      ],
      "execution_count": null,
      "outputs": []
    }
  ]
}